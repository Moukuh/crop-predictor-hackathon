{
 "cells": [
  {
   "cell_type": "code",
   "execution_count": 1,
   "id": "e239b61d",
   "metadata": {},
   "outputs": [],
   "source": [
    "import numpy as np\n",
    "import pandas as pd"
   ]
  },
  {
   "cell_type": "code",
   "execution_count": 2,
   "id": "4939aa1b",
   "metadata": {},
   "outputs": [],
   "source": [
    "tr = pd.read_csv('train_data.csv')"
   ]
  },
  {
   "cell_type": "code",
   "execution_count": 3,
   "id": "8ca0a957",
   "metadata": {},
   "outputs": [],
   "source": [
    "fe = pd.read_csv('farm_data-1646897931981.csv')"
   ]
  },
  {
   "cell_type": "code",
   "execution_count": 4,
   "id": "5cbfeedb",
   "metadata": {},
   "outputs": [],
   "source": [
    "#fe.shape"
   ]
  },
  {
   "cell_type": "code",
   "execution_count": 5,
   "id": "46f1c0d7",
   "metadata": {},
   "outputs": [],
   "source": [
    "fe.drop_duplicates(subset=['farm_id'], inplace=True)"
   ]
  },
  {
   "cell_type": "code",
   "execution_count": 6,
   "id": "658df659",
   "metadata": {},
   "outputs": [],
   "source": [
    "#fe.shape"
   ]
  },
  {
   "cell_type": "code",
   "execution_count": 7,
   "id": "572a630b",
   "metadata": {},
   "outputs": [
    {
     "data": {
      "text/plain": [
       "(20216100, 4)"
      ]
     },
     "execution_count": 7,
     "metadata": {},
     "output_type": "execute_result"
    }
   ],
   "source": [
    "tr.shape"
   ]
  },
  {
   "cell_type": "code",
   "execution_count": 8,
   "id": "b03428f7",
   "metadata": {},
   "outputs": [],
   "source": [
    "trfe = pd.merge(tr, fe, how=\"left\", on=[\"farm_id\"])"
   ]
  },
  {
   "cell_type": "code",
   "execution_count": 9,
   "id": "6f2ebcab",
   "metadata": {},
   "outputs": [],
   "source": [
    "#trfe.shape"
   ]
  },
  {
   "cell_type": "code",
   "execution_count": 10,
   "id": "211eaf4b",
   "metadata": {},
   "outputs": [],
   "source": [
    "tw = pd.read_csv('train_weather-1646897968670.csv')"
   ]
  },
  {
   "cell_type": "code",
   "execution_count": 11,
   "id": "e315f601",
   "metadata": {},
   "outputs": [],
   "source": [
    "#tw.shape"
   ]
  },
  {
   "cell_type": "code",
   "execution_count": 12,
   "id": "8de4432c",
   "metadata": {},
   "outputs": [],
   "source": [
    "trfe.rename(columns = {'date':'timestamp'},inplace = True)"
   ]
  },
  {
   "cell_type": "code",
   "execution_count": 13,
   "id": "9656e314",
   "metadata": {},
   "outputs": [],
   "source": [
    "train = pd.merge(trfe, tw, how=\"left\", on=[\"deidentified_location\", \"timestamp\"])"
   ]
  },
  {
   "cell_type": "code",
   "execution_count": 14,
   "id": "e12b500a",
   "metadata": {},
   "outputs": [],
   "source": [
    "#train.head()"
   ]
  },
  {
   "cell_type": "code",
   "execution_count": 15,
   "id": "c704a41b",
   "metadata": {},
   "outputs": [
    {
     "data": {
      "text/plain": [
       "(20216100, 16)"
      ]
     },
     "execution_count": 15,
     "metadata": {},
     "output_type": "execute_result"
    }
   ],
   "source": [
    "train.shape"
   ]
  },
  {
   "cell_type": "code",
   "execution_count": 16,
   "id": "dd397f84",
   "metadata": {},
   "outputs": [],
   "source": [
    "#train.isnull().sum()"
   ]
  },
  {
   "cell_type": "code",
   "execution_count": 17,
   "id": "4a824be7",
   "metadata": {},
   "outputs": [],
   "source": [
    "#train_c = train.copy()"
   ]
  },
  {
   "cell_type": "code",
   "execution_count": 18,
   "id": "5adbae00",
   "metadata": {},
   "outputs": [],
   "source": [
    "#train.info()"
   ]
  },
  {
   "cell_type": "code",
   "execution_count": 19,
   "id": "8b39a549",
   "metadata": {},
   "outputs": [
    {
     "name": "stderr",
     "output_type": "stream",
     "text": [
      "/var/folders/hk/d9j983wj2t35c0rlbmr4ldjw0000gn/T/ipykernel_11154/3716296932.py:1: FutureWarning: casting datetime64[ns] values to int64 with .astype(...) is deprecated and will raise in a future version. Use .view(...) instead.\n",
      "  train['Unix Sec'] = pd.to_datetime(train['timestamp']).astype(int)/ 10**9\n"
     ]
    }
   ],
   "source": [
    "train['Unix Sec'] = pd.to_datetime(train['timestamp']).astype(int)/ 10**9"
   ]
  },
  {
   "cell_type": "code",
   "execution_count": 20,
   "id": "53c9d4be",
   "metadata": {},
   "outputs": [],
   "source": [
    "train['Unix Sec'] = train['Unix Sec'].astype('int64')"
   ]
  },
  {
   "cell_type": "code",
   "execution_count": 21,
   "id": "c63274d3",
   "metadata": {},
   "outputs": [],
   "source": [
    "#train.head()"
   ]
  },
  {
   "cell_type": "code",
   "execution_count": 22,
   "id": "ae8fc6d0",
   "metadata": {},
   "outputs": [],
   "source": [
    "train.drop(['timestamp', 'operations_commencing_year', 'num_processing_plants', 'farm_id'], axis=1, inplace=True)"
   ]
  },
  {
   "cell_type": "code",
   "execution_count": 23,
   "id": "2a69738d",
   "metadata": {},
   "outputs": [],
   "source": [
    "#train.isnull().sum()"
   ]
  },
  {
   "cell_type": "code",
   "execution_count": 24,
   "id": "45e41443",
   "metadata": {},
   "outputs": [
    {
     "data": {
      "text/plain": [
       "'import seaborn as sns\\nimport matplotlib.pyplot as plt\\n%matplotlib inline'"
      ]
     },
     "execution_count": 24,
     "metadata": {},
     "output_type": "execute_result"
    }
   ],
   "source": [
    "\"\"\"import seaborn as sns\n",
    "import matplotlib.pyplot as plt\n",
    "%matplotlib inline\"\"\""
   ]
  },
  {
   "cell_type": "code",
   "execution_count": 25,
   "id": "9d18099f",
   "metadata": {},
   "outputs": [
    {
     "data": {
      "text/plain": [
       "\"corrMatrix = train.corr(method = 'pearson',min_periods = 1)\""
      ]
     },
     "execution_count": 25,
     "metadata": {},
     "output_type": "execute_result"
    }
   ],
   "source": [
    "\"\"\"corrMatrix = train.corr(method = 'pearson',min_periods = 1)\"\"\""
   ]
  },
  {
   "cell_type": "code",
   "execution_count": 26,
   "id": "2f872687",
   "metadata": {},
   "outputs": [
    {
     "data": {
      "text/plain": [
       "'plt.figure(figsize=(15,6))\\nsns.heatmap(corrMatrix, annot=True)\\nplt.show()'"
      ]
     },
     "execution_count": 26,
     "metadata": {},
     "output_type": "execute_result"
    }
   ],
   "source": [
    "\"\"\"plt.figure(figsize=(15,6))\n",
    "sns.heatmap(corrMatrix, annot=True)\n",
    "plt.show()\"\"\""
   ]
  },
  {
   "cell_type": "markdown",
   "id": "add8dbb9",
   "metadata": {},
   "source": [
    "## Missing value impute"
   ]
  },
  {
   "cell_type": "code",
   "execution_count": 27,
   "id": "f3981a61",
   "metadata": {},
   "outputs": [],
   "source": [
    "missing_cols = [ \"temp_obs\", \"cloudiness\", \"wind_direction\", \"dew_temp\", \"pressure_sea_level\", \"precipitation\", \"wind_speed\"]"
   ]
  },
  {
   "cell_type": "code",
   "execution_count": 28,
   "id": "46808504",
   "metadata": {},
   "outputs": [],
   "source": [
    "from sklearn.impute import SimpleImputer\n",
    "imputer = SimpleImputer(strategy='median')"
   ]
  },
  {
   "cell_type": "code",
   "execution_count": 29,
   "id": "34f23a4d",
   "metadata": {},
   "outputs": [],
   "source": [
    "for col in missing_cols:\n",
    "    imputer.fit(train[col].values.reshape(-1, 1))\n",
    "    train[col] = imputer.transform(train[col].values.reshape(-1, 1))"
   ]
  },
  {
   "cell_type": "code",
   "execution_count": 30,
   "id": "921a5574",
   "metadata": {},
   "outputs": [
    {
     "data": {
      "text/plain": [
       "ingredient_type          0\n",
       "yield                    0\n",
       "farm_area                0\n",
       "farming_company          0\n",
       "deidentified_location    0\n",
       "temp_obs                 0\n",
       "cloudiness               0\n",
       "wind_direction           0\n",
       "dew_temp                 0\n",
       "pressure_sea_level       0\n",
       "precipitation            0\n",
       "wind_speed               0\n",
       "Unix Sec                 0\n",
       "dtype: int64"
      ]
     },
     "execution_count": 30,
     "metadata": {},
     "output_type": "execute_result"
    }
   ],
   "source": [
    "train.isnull().sum()"
   ]
  },
  {
   "cell_type": "markdown",
   "id": "a57ff4d8",
   "metadata": {},
   "source": [
    "## Label Encoding"
   ]
  },
  {
   "cell_type": "code",
   "execution_count": 31,
   "id": "279edc72",
   "metadata": {},
   "outputs": [],
   "source": [
    "from sklearn.preprocessing import LabelEncoder"
   ]
  },
  {
   "cell_type": "code",
   "execution_count": 32,
   "id": "0154e1ac",
   "metadata": {},
   "outputs": [],
   "source": [
    "cat_cols = [\"ingredient_type\", \"farming_company\", \"deidentified_location\"]\n",
    "le = LabelEncoder()\n",
    "for col in cat_cols:\n",
    "    train[col] = le.fit_transform(train[col])"
   ]
  },
  {
   "cell_type": "code",
   "execution_count": 33,
   "id": "26e60db2",
   "metadata": {
    "scrolled": true
   },
   "outputs": [],
   "source": [
    "#train.head()"
   ]
  },
  {
   "cell_type": "code",
   "execution_count": 34,
   "id": "57538920",
   "metadata": {},
   "outputs": [],
   "source": [
    "#train.dtypes"
   ]
  },
  {
   "cell_type": "markdown",
   "id": "bff5ba41",
   "metadata": {},
   "source": [
    "## Scaling"
   ]
  },
  {
   "cell_type": "code",
   "execution_count": 35,
   "id": "317ac791",
   "metadata": {},
   "outputs": [],
   "source": [
    "#train.head()"
   ]
  },
  {
   "cell_type": "code",
   "execution_count": 36,
   "id": "a5971bf2",
   "metadata": {},
   "outputs": [],
   "source": [
    "from sklearn.preprocessing import StandardScaler"
   ]
  },
  {
   "cell_type": "code",
   "execution_count": 37,
   "id": "3c27fe60",
   "metadata": {},
   "outputs": [],
   "source": [
    "sc = StandardScaler()\n",
    "train = pd.DataFrame(sc.fit_transform(train), columns=train.columns)\n",
    "#train = sc.fit_transform(train)"
   ]
  },
  {
   "cell_type": "markdown",
   "id": "ebb75575",
   "metadata": {},
   "source": [
    "## Model Building"
   ]
  },
  {
   "cell_type": "code",
   "execution_count": 38,
   "id": "f42bc935",
   "metadata": {},
   "outputs": [],
   "source": [
    "#train.insert(0, 'id', train.index)"
   ]
  },
  {
   "cell_type": "code",
   "execution_count": 39,
   "id": "f0334521",
   "metadata": {},
   "outputs": [],
   "source": [
    "from sklearn.model_selection import train_test_split"
   ]
  },
  {
   "cell_type": "code",
   "execution_count": 40,
   "id": "2b98233d",
   "metadata": {
    "scrolled": true
   },
   "outputs": [
    {
     "data": {
      "text/plain": [
       "\"y = train['yield']\\nX = train.loc[:, train.columns != 'yield']\\n\\nX_train, X_test, y_train, y_test = train_test_split(X, y, test_size=0.3, random_state = 11)\\n\\nprint(X_train.shape, X_test.shape)\\nprint(y_train.shape, y_test.shape)\""
      ]
     },
     "execution_count": 40,
     "metadata": {},
     "output_type": "execute_result"
    }
   ],
   "source": [
    "\"\"\"y = train['yield']\n",
    "X = train.loc[:, train.columns != 'yield']\n",
    "\n",
    "X_train, X_test, y_train, y_test = train_test_split(X, y, test_size=0.3, random_state = 11)\n",
    "\n",
    "print(X_train.shape, X_test.shape)\n",
    "print(y_train.shape, y_test.shape)\"\"\""
   ]
  },
  {
   "cell_type": "code",
   "execution_count": 41,
   "id": "f95cfe60",
   "metadata": {},
   "outputs": [
    {
     "name": "stdout",
     "output_type": "stream",
     "text": [
      "(2830254, 12) (1212966, 12)\n",
      "(2830254,) (1212966,)\n"
     ]
    }
   ],
   "source": [
    "y = train['yield']\n",
    "X = train.loc[:, train.columns != 'yield']\n",
    "\n",
    "X_train, X_test, y_train, y_test = train_test_split(X, y, test_size=0.3, random_state = 11)\n",
    "\n",
    "# Keep only 50% of the training set\n",
    "X_train = X_train.sample(frac=0.2, random_state=11)\n",
    "y_train = y_train[X_train.index]\n",
    "\n",
    "X_test = X_test.sample(frac=0.2, random_state=11)\n",
    "y_test = y_test[X_test.index]\n",
    "\n",
    "print(X_train.shape, X_test.shape)\n",
    "print(y_train.shape, y_test.shape)"
   ]
  },
  {
   "cell_type": "code",
   "execution_count": 42,
   "id": "fcd92eb9",
   "metadata": {},
   "outputs": [],
   "source": [
    "#train.head()"
   ]
  },
  {
   "cell_type": "code",
   "execution_count": 43,
   "id": "c46b9b9f",
   "metadata": {},
   "outputs": [],
   "source": [
    "from sklearn.ensemble import RandomForestRegressor\n",
    "from sklearn.metrics import mean_squared_error"
   ]
  },
  {
   "cell_type": "code",
   "execution_count": 44,
   "id": "44370dfb",
   "metadata": {},
   "outputs": [],
   "source": [
    "#train.shape"
   ]
  },
  {
   "cell_type": "code",
   "execution_count": 45,
   "id": "93734b38",
   "metadata": {},
   "outputs": [],
   "source": [
    "rf = RandomForestRegressor()"
   ]
  },
  {
   "cell_type": "code",
   "execution_count": 46,
   "id": "132ed075",
   "metadata": {
    "scrolled": true
   },
   "outputs": [
    {
     "data": {
      "text/html": [
       "<style>#sk-container-id-1 {color: black;background-color: white;}#sk-container-id-1 pre{padding: 0;}#sk-container-id-1 div.sk-toggleable {background-color: white;}#sk-container-id-1 label.sk-toggleable__label {cursor: pointer;display: block;width: 100%;margin-bottom: 0;padding: 0.3em;box-sizing: border-box;text-align: center;}#sk-container-id-1 label.sk-toggleable__label-arrow:before {content: \"▸\";float: left;margin-right: 0.25em;color: #696969;}#sk-container-id-1 label.sk-toggleable__label-arrow:hover:before {color: black;}#sk-container-id-1 div.sk-estimator:hover label.sk-toggleable__label-arrow:before {color: black;}#sk-container-id-1 div.sk-toggleable__content {max-height: 0;max-width: 0;overflow: hidden;text-align: left;background-color: #f0f8ff;}#sk-container-id-1 div.sk-toggleable__content pre {margin: 0.2em;color: black;border-radius: 0.25em;background-color: #f0f8ff;}#sk-container-id-1 input.sk-toggleable__control:checked~div.sk-toggleable__content {max-height: 200px;max-width: 100%;overflow: auto;}#sk-container-id-1 input.sk-toggleable__control:checked~label.sk-toggleable__label-arrow:before {content: \"▾\";}#sk-container-id-1 div.sk-estimator input.sk-toggleable__control:checked~label.sk-toggleable__label {background-color: #d4ebff;}#sk-container-id-1 div.sk-label input.sk-toggleable__control:checked~label.sk-toggleable__label {background-color: #d4ebff;}#sk-container-id-1 input.sk-hidden--visually {border: 0;clip: rect(1px 1px 1px 1px);clip: rect(1px, 1px, 1px, 1px);height: 1px;margin: -1px;overflow: hidden;padding: 0;position: absolute;width: 1px;}#sk-container-id-1 div.sk-estimator {font-family: monospace;background-color: #f0f8ff;border: 1px dotted black;border-radius: 0.25em;box-sizing: border-box;margin-bottom: 0.5em;}#sk-container-id-1 div.sk-estimator:hover {background-color: #d4ebff;}#sk-container-id-1 div.sk-parallel-item::after {content: \"\";width: 100%;border-bottom: 1px solid gray;flex-grow: 1;}#sk-container-id-1 div.sk-label:hover label.sk-toggleable__label {background-color: #d4ebff;}#sk-container-id-1 div.sk-serial::before {content: \"\";position: absolute;border-left: 1px solid gray;box-sizing: border-box;top: 0;bottom: 0;left: 50%;z-index: 0;}#sk-container-id-1 div.sk-serial {display: flex;flex-direction: column;align-items: center;background-color: white;padding-right: 0.2em;padding-left: 0.2em;position: relative;}#sk-container-id-1 div.sk-item {position: relative;z-index: 1;}#sk-container-id-1 div.sk-parallel {display: flex;align-items: stretch;justify-content: center;background-color: white;position: relative;}#sk-container-id-1 div.sk-item::before, #sk-container-id-1 div.sk-parallel-item::before {content: \"\";position: absolute;border-left: 1px solid gray;box-sizing: border-box;top: 0;bottom: 0;left: 50%;z-index: -1;}#sk-container-id-1 div.sk-parallel-item {display: flex;flex-direction: column;z-index: 1;position: relative;background-color: white;}#sk-container-id-1 div.sk-parallel-item:first-child::after {align-self: flex-end;width: 50%;}#sk-container-id-1 div.sk-parallel-item:last-child::after {align-self: flex-start;width: 50%;}#sk-container-id-1 div.sk-parallel-item:only-child::after {width: 0;}#sk-container-id-1 div.sk-dashed-wrapped {border: 1px dashed gray;margin: 0 0.4em 0.5em 0.4em;box-sizing: border-box;padding-bottom: 0.4em;background-color: white;}#sk-container-id-1 div.sk-label label {font-family: monospace;font-weight: bold;display: inline-block;line-height: 1.2em;}#sk-container-id-1 div.sk-label-container {text-align: center;}#sk-container-id-1 div.sk-container {/* jupyter's `normalize.less` sets `[hidden] { display: none; }` but bootstrap.min.css set `[hidden] { display: none !important; }` so we also need the `!important` here to be able to override the default hidden behavior on the sphinx rendered scikit-learn.org. See: https://github.com/scikit-learn/scikit-learn/issues/21755 */display: inline-block !important;position: relative;}#sk-container-id-1 div.sk-text-repr-fallback {display: none;}</style><div id=\"sk-container-id-1\" class=\"sk-top-container\"><div class=\"sk-text-repr-fallback\"><pre>RandomForestRegressor()</pre><b>In a Jupyter environment, please rerun this cell to show the HTML representation or trust the notebook. <br />On GitHub, the HTML representation is unable to render, please try loading this page with nbviewer.org.</b></div><div class=\"sk-container\" hidden><div class=\"sk-item\"><div class=\"sk-estimator sk-toggleable\"><input class=\"sk-toggleable__control sk-hidden--visually\" id=\"sk-estimator-id-1\" type=\"checkbox\" checked><label for=\"sk-estimator-id-1\" class=\"sk-toggleable__label sk-toggleable__label-arrow\">RandomForestRegressor</label><div class=\"sk-toggleable__content\"><pre>RandomForestRegressor()</pre></div></div></div></div></div>"
      ],
      "text/plain": [
       "RandomForestRegressor()"
      ]
     },
     "execution_count": 46,
     "metadata": {},
     "output_type": "execute_result"
    }
   ],
   "source": [
    "rf.fit(X_train, y_train)"
   ]
  },
  {
   "cell_type": "code",
   "execution_count": 47,
   "id": "68544851",
   "metadata": {},
   "outputs": [],
   "source": [
    "#import pickle"
   ]
  },
  {
   "cell_type": "code",
   "execution_count": 48,
   "id": "5b26a6ba",
   "metadata": {},
   "outputs": [
    {
     "data": {
      "text/plain": [
       "'import pickle\\n  \\n# Save the trained model as a pickle string.\\nsaved_model = pickle.dumps(rf)\\n  \\n# Load the pickled model\\n#rf_from_pickle = pickle.loads(saved_model)\\n  \\n# Use the loaded pickled model to make predictions\\n#rf_from_pickle.predict(X_test)'"
      ]
     },
     "execution_count": 48,
     "metadata": {},
     "output_type": "execute_result"
    }
   ],
   "source": [
    "\"\"\"import pickle\n",
    "  \n",
    "# Save the trained model as a pickle string.\n",
    "saved_model = pickle.dumps(rf)\n",
    "  \n",
    "# Load the pickled model\n",
    "#rf_from_pickle = pickle.loads(saved_model)\n",
    "  \n",
    "# Use the loaded pickled model to make predictions\n",
    "#rf_from_pickle.predict(X_test)\"\"\""
   ]
  },
  {
   "cell_type": "code",
   "execution_count": 49,
   "id": "f5a6d34c",
   "metadata": {},
   "outputs": [
    {
     "data": {
      "text/plain": [
       "\"with open('model.pkl', 'wb') as file:\\n    pickle.dump(model, file)\""
      ]
     },
     "execution_count": 49,
     "metadata": {},
     "output_type": "execute_result"
    }
   ],
   "source": [
    "\"\"\"with open('model.pkl', 'wb') as file:\n",
    "    pickle.dump(model, file)\"\"\""
   ]
  },
  {
   "cell_type": "code",
   "execution_count": 50,
   "id": "b8700ddd",
   "metadata": {},
   "outputs": [
    {
     "ename": "SyntaxError",
     "evalue": "EOF while scanning triple-quoted string literal (559434926.py, line 2)",
     "output_type": "error",
     "traceback": [
      "\u001b[0;36m  File \u001b[0;32m\"/var/folders/hk/d9j983wj2t35c0rlbmr4ldjw0000gn/T/ipykernel_11154/559434926.py\"\u001b[0;36m, line \u001b[0;32m2\u001b[0m\n\u001b[0;31m    loaded_model = pickle.load(file)\u001b[0m\n\u001b[0m                                    \n^\u001b[0m\n\u001b[0;31mSyntaxError\u001b[0m\u001b[0;31m:\u001b[0m EOF while scanning triple-quoted string literal\n"
     ]
    }
   ],
   "source": [
    "\"\"\"with open('model.pkl', 'rb') as file:\n",
    "    loaded_model = pickle.load(file)"
   ]
  },
  {
   "cell_type": "code",
   "execution_count": null,
   "id": "117bce16",
   "metadata": {},
   "outputs": [],
   "source": [
    "#prediction = loaded_model.predict(X)"
   ]
  },
  {
   "cell_type": "markdown",
   "id": "1442f93e",
   "metadata": {},
   "source": [
    "### Prediction"
   ]
  },
  {
   "cell_type": "code",
   "execution_count": 51,
   "id": "1615d01d",
   "metadata": {
    "scrolled": true
   },
   "outputs": [],
   "source": [
    "train_pred1 = rf.predict(X_train)\n",
    "test_pred1 = rf.predict(X_test)"
   ]
  },
  {
   "cell_type": "code",
   "execution_count": 52,
   "id": "8f126d93",
   "metadata": {},
   "outputs": [
    {
     "data": {
      "text/plain": [
       "array([-0.01281505, -0.01248104, -0.01167341, ..., -0.01313318,\n",
       "       -0.01367165, -0.00791007])"
      ]
     },
     "execution_count": 52,
     "metadata": {},
     "output_type": "execute_result"
    }
   ],
   "source": [
    "train_pred1"
   ]
  },
  {
   "cell_type": "code",
   "execution_count": 53,
   "id": "8c16bad7",
   "metadata": {},
   "outputs": [
    {
     "data": {
      "text/plain": [
       "array([-0.01114749, -0.00521065, -0.01378913, ..., -0.0013333 ,\n",
       "       -0.01279086, -0.0136999 ])"
      ]
     },
     "execution_count": 53,
     "metadata": {},
     "output_type": "execute_result"
    }
   ],
   "source": [
    "test_pred1"
   ]
  },
  {
   "cell_type": "code",
   "execution_count": null,
   "id": "7bb9cf90",
   "metadata": {},
   "outputs": [],
   "source": [
    "print(rf.score(X_train, y_train))\n",
    "print(rf.score(X_test, y_test))"
   ]
  },
  {
   "cell_type": "markdown",
   "id": "81b26b70",
   "metadata": {},
   "source": [
    "### RMSE"
   ]
  },
  {
   "cell_type": "code",
   "execution_count": 54,
   "id": "e5f16c7b",
   "metadata": {},
   "outputs": [],
   "source": [
    "def convert_for_sklearn(label_list):\n",
    "    return [1 if i == 1 else 0 for i in label_list]\n",
    "\n",
    "\n",
    "def rmse_metric(y_true, y_pred):\n",
    "    \n",
    "    y_test_scoring = convert_for_sklearn(y_true)\n",
    "    test_pred_scoring = convert_for_sklearn(y_pred)\n",
    "\n",
    "    mse = mean_squared_error(y_true= y_test, y_pred = test_pred1)\n",
    "    rmse = np.sqrt(mse)\n",
    "    \n",
    "    print(\"Test RMSE_score: \",rmse)"
   ]
  },
  {
   "cell_type": "code",
   "execution_count": 55,
   "id": "58233a94",
   "metadata": {},
   "outputs": [
    {
     "name": "stdout",
     "output_type": "stream",
     "text": [
      "Test RMSE_score:  0.2795875102225083\n"
     ]
    }
   ],
   "source": [
    "rmse_metric(y_true = y_test, y_pred = test_pred1)"
   ]
  },
  {
   "cell_type": "markdown",
   "id": "1a0ec013",
   "metadata": {},
   "source": [
    "### Processing the test dataset"
   ]
  },
  {
   "cell_type": "code",
   "execution_count": 56,
   "id": "eef43024",
   "metadata": {},
   "outputs": [],
   "source": [
    "test_data = pd.read_csv('test_data-1664552867678.csv')"
   ]
  },
  {
   "cell_type": "code",
   "execution_count": 57,
   "id": "904dd1ee",
   "metadata": {},
   "outputs": [
    {
     "data": {
      "text/plain": [
       "(20848800, 4)"
      ]
     },
     "execution_count": 57,
     "metadata": {},
     "output_type": "execute_result"
    }
   ],
   "source": [
    "test_data.shape"
   ]
  },
  {
   "cell_type": "code",
   "execution_count": null,
   "id": "4c1a1369",
   "metadata": {},
   "outputs": [],
   "source": [
    "test_data.head()"
   ]
  },
  {
   "cell_type": "code",
   "execution_count": null,
   "id": "25d932ac",
   "metadata": {},
   "outputs": [],
   "source": [
    "fe.shape"
   ]
  },
  {
   "cell_type": "code",
   "execution_count": 58,
   "id": "37f8c564",
   "metadata": {},
   "outputs": [],
   "source": [
    "tefe = pd.merge(test_data, fe, how=\"left\", on=[\"farm_id\"])"
   ]
  },
  {
   "cell_type": "code",
   "execution_count": null,
   "id": "0e4c6df1",
   "metadata": {},
   "outputs": [],
   "source": [
    "tefe.shape"
   ]
  },
  {
   "cell_type": "code",
   "execution_count": 59,
   "id": "ea0b071d",
   "metadata": {},
   "outputs": [],
   "source": [
    "tew = pd.read_csv('test_weather-1646897984996-1664552604982.csv')"
   ]
  },
  {
   "cell_type": "code",
   "execution_count": 60,
   "id": "30160da3",
   "metadata": {},
   "outputs": [],
   "source": [
    "tefe.rename(columns = {'date':'timestamp'},inplace = True)"
   ]
  },
  {
   "cell_type": "code",
   "execution_count": 61,
   "id": "c5c8920b",
   "metadata": {},
   "outputs": [],
   "source": [
    "test = pd.merge(tefe, tew, how=\"left\", on=[\"deidentified_location\", \"timestamp\"])"
   ]
  },
  {
   "cell_type": "code",
   "execution_count": 62,
   "id": "a97a9374",
   "metadata": {},
   "outputs": [
    {
     "data": {
      "text/plain": [
       "(20848800, 16)"
      ]
     },
     "execution_count": 62,
     "metadata": {},
     "output_type": "execute_result"
    }
   ],
   "source": [
    "test.shape"
   ]
  },
  {
   "cell_type": "code",
   "execution_count": 63,
   "id": "17ef7308",
   "metadata": {},
   "outputs": [
    {
     "name": "stderr",
     "output_type": "stream",
     "text": [
      "/var/folders/hk/d9j983wj2t35c0rlbmr4ldjw0000gn/T/ipykernel_11154/2964248569.py:1: FutureWarning: casting datetime64[ns] values to int64 with .astype(...) is deprecated and will raise in a future version. Use .view(...) instead.\n",
      "  test['Unix Sec'] = pd.to_datetime(test['timestamp']).astype(int)/ 10**9\n"
     ]
    }
   ],
   "source": [
    "test['Unix Sec'] = pd.to_datetime(test['timestamp']).astype(int)/ 10**9\n",
    "test['Unix Sec'] = test['Unix Sec'].astype('int64')"
   ]
  },
  {
   "cell_type": "code",
   "execution_count": 64,
   "id": "e9a1c215",
   "metadata": {},
   "outputs": [],
   "source": [
    "test.drop(['timestamp', 'operations_commencing_year', 'num_processing_plants', 'farm_id'], axis=1, inplace=True)"
   ]
  },
  {
   "cell_type": "code",
   "execution_count": 65,
   "id": "41a8a313",
   "metadata": {},
   "outputs": [],
   "source": [
    "missing_cols = [ \"temp_obs\", \"cloudiness\", \"wind_direction\", \"dew_temp\", \"pressure_sea_level\", \"precipitation\", \"wind_speed\"]"
   ]
  },
  {
   "cell_type": "code",
   "execution_count": 66,
   "id": "52699414",
   "metadata": {},
   "outputs": [],
   "source": [
    "from sklearn.impute import SimpleImputer\n",
    "imputer = SimpleImputer(strategy='median')"
   ]
  },
  {
   "cell_type": "code",
   "execution_count": 67,
   "id": "b14bd7d1",
   "metadata": {},
   "outputs": [],
   "source": [
    "for col in missing_cols:\n",
    "    imputer.fit(test[col].values.reshape(-1, 1))\n",
    "    test[col] = imputer.transform(test[col].values.reshape(-1, 1))"
   ]
  },
  {
   "cell_type": "code",
   "execution_count": 68,
   "id": "4eab2a78",
   "metadata": {},
   "outputs": [
    {
     "data": {
      "text/plain": [
       "ingredient_type          0\n",
       "id                       0\n",
       "farm_area                0\n",
       "farming_company          0\n",
       "deidentified_location    0\n",
       "temp_obs                 0\n",
       "cloudiness               0\n",
       "wind_direction           0\n",
       "dew_temp                 0\n",
       "pressure_sea_level       0\n",
       "precipitation            0\n",
       "wind_speed               0\n",
       "Unix Sec                 0\n",
       "dtype: int64"
      ]
     },
     "execution_count": 68,
     "metadata": {},
     "output_type": "execute_result"
    }
   ],
   "source": [
    "test.isnull().sum()"
   ]
  },
  {
   "cell_type": "code",
   "execution_count": 69,
   "id": "1b336cf4",
   "metadata": {},
   "outputs": [],
   "source": [
    "from sklearn.preprocessing import LabelEncoder"
   ]
  },
  {
   "cell_type": "code",
   "execution_count": 70,
   "id": "1af417bc",
   "metadata": {},
   "outputs": [],
   "source": [
    "cat_cols = [\"ingredient_type\", \"farming_company\", \"deidentified_location\"]\n",
    "le = LabelEncoder()\n",
    "for col in cat_cols:\n",
    "    test[col] = le.fit_transform(test[col])"
   ]
  },
  {
   "cell_type": "code",
   "execution_count": null,
   "id": "e302ee05",
   "metadata": {},
   "outputs": [],
   "source": [
    "test.head()"
   ]
  },
  {
   "cell_type": "code",
   "execution_count": 71,
   "id": "8ab0376e",
   "metadata": {},
   "outputs": [],
   "source": [
    "test.drop('id', axis=1, inplace=True)\n",
    "#t = test.drop('id', axis=1)"
   ]
  },
  {
   "cell_type": "code",
   "execution_count": 72,
   "id": "44cccab6",
   "metadata": {},
   "outputs": [],
   "source": [
    "sc = StandardScaler()\n",
    "test = pd.DataFrame(sc.fit_transform(test), columns=test.columns)"
   ]
  },
  {
   "cell_type": "code",
   "execution_count": null,
   "id": "282c3f05",
   "metadata": {},
   "outputs": [],
   "source": [
    "#test.insert(0, 'id', test.index)"
   ]
  },
  {
   "cell_type": "code",
   "execution_count": null,
   "id": "9a30985f",
   "metadata": {
    "scrolled": true
   },
   "outputs": [],
   "source": [
    "test.shape"
   ]
  },
  {
   "cell_type": "code",
   "execution_count": 73,
   "id": "295f8740",
   "metadata": {},
   "outputs": [],
   "source": [
    "batches = np.array_split(test, 10)"
   ]
  },
  {
   "cell_type": "markdown",
   "id": "7762da86",
   "metadata": {},
   "source": [
    "### Prediction for test"
   ]
  },
  {
   "cell_type": "code",
   "execution_count": 74,
   "id": "e8638a0a",
   "metadata": {
    "scrolled": true
   },
   "outputs": [
    {
     "name": "stdout",
     "output_type": "stream",
     "text": [
      "Processed batch 1 of 10\n",
      "Processed batch 2 of 10\n",
      "Processed batch 3 of 10\n",
      "Processed batch 4 of 10\n",
      "Processed batch 5 of 10\n",
      "Processed batch 6 of 10\n",
      "Processed batch 7 of 10\n",
      "Processed batch 8 of 10\n",
      "Processed batch 9 of 10\n",
      "Processed batch 10 of 10\n"
     ]
    }
   ],
   "source": [
    "all_predictions = []\n",
    "for i, batch in enumerate(batches):\n",
    "    test_pred = rf.predict(batch)\n",
    "    all_predictions.append(pd.Series(test_pred))\n",
    "    print(f\"Processed batch {i+1} of {len(batches)}\")\n",
    "    \n",
    "predictions_df = pd.concat(all_predictions)"
   ]
  },
  {
   "cell_type": "code",
   "execution_count": null,
   "id": "6f153312",
   "metadata": {},
   "outputs": [],
   "source": [
    "#test_pred = rf.predict(Final_data_test)"
   ]
  },
  {
   "cell_type": "code",
   "execution_count": 75,
   "id": "b802b7ae",
   "metadata": {},
   "outputs": [
    {
     "data": {
      "text/plain": [
       "0         -0.013816\n",
       "1         -0.013816\n",
       "2         -0.013816\n",
       "3         -0.013816\n",
       "4         -0.013816\n",
       "             ...   \n",
       "2084875   -0.013803\n",
       "2084876   -0.013223\n",
       "2084877   -0.011989\n",
       "2084878   -0.012212\n",
       "2084879   -0.013262\n",
       "Length: 20848800, dtype: float64"
      ]
     },
     "execution_count": 75,
     "metadata": {},
     "output_type": "execute_result"
    }
   ],
   "source": [
    "predictions_df"
   ]
  },
  {
   "cell_type": "code",
   "execution_count": 76,
   "id": "85432610",
   "metadata": {},
   "outputs": [
    {
     "data": {
      "text/plain": [
       "pandas.core.series.Series"
      ]
     },
     "execution_count": 76,
     "metadata": {},
     "output_type": "execute_result"
    }
   ],
   "source": [
    "type(predictions_df)"
   ]
  },
  {
   "cell_type": "code",
   "execution_count": 77,
   "id": "07fa0be8",
   "metadata": {},
   "outputs": [
    {
     "data": {
      "text/plain": [
       "(20848800,)"
      ]
     },
     "execution_count": 77,
     "metadata": {},
     "output_type": "execute_result"
    }
   ],
   "source": [
    "predictions_df.shape"
   ]
  },
  {
   "cell_type": "markdown",
   "id": "35d1fa80",
   "metadata": {},
   "source": [
    "### Submission file"
   ]
  },
  {
   "cell_type": "code",
   "execution_count": 78,
   "id": "dea6d290",
   "metadata": {
    "scrolled": true
   },
   "outputs": [
    {
     "data": {
      "text/plain": [
       "0                  0\n",
       "1                  1\n",
       "2                  2\n",
       "3                  3\n",
       "4                  4\n",
       "              ...   \n",
       "20848795    41696845\n",
       "20848796    41696846\n",
       "20848797    41696847\n",
       "20848798    41696848\n",
       "20848799    41696849\n",
       "Name: id, Length: 20848800, dtype: int64"
      ]
     },
     "execution_count": 78,
     "metadata": {},
     "output_type": "execute_result"
    }
   ],
   "source": [
    "test_data.id"
   ]
  },
  {
   "cell_type": "code",
   "execution_count": 79,
   "id": "d8efbdab",
   "metadata": {},
   "outputs": [],
   "source": [
    "iddf = pd.DataFrame({'id': test_data.id})"
   ]
  },
  {
   "cell_type": "code",
   "execution_count": 80,
   "id": "ff4e3be7",
   "metadata": {},
   "outputs": [],
   "source": [
    "predf = pd.DataFrame({'yield': predictions_df})"
   ]
  },
  {
   "cell_type": "code",
   "execution_count": 81,
   "id": "2780cfc2",
   "metadata": {},
   "outputs": [
    {
     "data": {
      "text/plain": [
       "(20848800, 1)"
      ]
     },
     "execution_count": 81,
     "metadata": {},
     "output_type": "execute_result"
    }
   ],
   "source": [
    "iddf.shape"
   ]
  },
  {
   "cell_type": "code",
   "execution_count": 82,
   "id": "0929904c",
   "metadata": {},
   "outputs": [
    {
     "data": {
      "text/plain": [
       "(20848800, 1)"
      ]
     },
     "execution_count": 82,
     "metadata": {},
     "output_type": "execute_result"
    }
   ],
   "source": [
    "predf.shape"
   ]
  },
  {
   "cell_type": "code",
   "execution_count": 92,
   "id": "8f4b5040",
   "metadata": {},
   "outputs": [],
   "source": [
    "iddf = iddf.reset_index(drop=True)"
   ]
  },
  {
   "cell_type": "code",
   "execution_count": 94,
   "id": "9cca0cd7",
   "metadata": {},
   "outputs": [],
   "source": [
    "predf = predf.reset_index(drop=True)"
   ]
  },
  {
   "cell_type": "code",
   "execution_count": 93,
   "id": "5adcf21e",
   "metadata": {},
   "outputs": [
    {
     "data": {
      "text/plain": [
       "20848800"
      ]
     },
     "execution_count": 93,
     "metadata": {},
     "output_type": "execute_result"
    }
   ],
   "source": [
    "len(iddf.index.duplicated())"
   ]
  },
  {
   "cell_type": "code",
   "execution_count": 95,
   "id": "b8c12b41",
   "metadata": {},
   "outputs": [
    {
     "data": {
      "text/plain": [
       "20848800"
      ]
     },
     "execution_count": 95,
     "metadata": {},
     "output_type": "execute_result"
    }
   ],
   "source": [
    "len(predf.index.duplicated())"
   ]
  },
  {
   "cell_type": "code",
   "execution_count": 96,
   "id": "6a92da23",
   "metadata": {},
   "outputs": [],
   "source": [
    "submission1 = pd.concat([iddf, predf], axis=1, ignore_index=True)"
   ]
  },
  {
   "cell_type": "code",
   "execution_count": null,
   "id": "634938bb",
   "metadata": {},
   "outputs": [],
   "source": [
    "#submission = pd.DataFrame({'id': test_data.id, 'yield': predictions_df})"
   ]
  },
  {
   "cell_type": "code",
   "execution_count": 98,
   "id": "d1c857bf",
   "metadata": {},
   "outputs": [
    {
     "data": {
      "text/html": [
       "<div>\n",
       "<style scoped>\n",
       "    .dataframe tbody tr th:only-of-type {\n",
       "        vertical-align: middle;\n",
       "    }\n",
       "\n",
       "    .dataframe tbody tr th {\n",
       "        vertical-align: top;\n",
       "    }\n",
       "\n",
       "    .dataframe thead th {\n",
       "        text-align: right;\n",
       "    }\n",
       "</style>\n",
       "<table border=\"1\" class=\"dataframe\">\n",
       "  <thead>\n",
       "    <tr style=\"text-align: right;\">\n",
       "      <th></th>\n",
       "      <th>0</th>\n",
       "      <th>1</th>\n",
       "    </tr>\n",
       "  </thead>\n",
       "  <tbody>\n",
       "    <tr>\n",
       "      <th>0</th>\n",
       "      <td>0</td>\n",
       "      <td>-0.013816</td>\n",
       "    </tr>\n",
       "    <tr>\n",
       "      <th>1</th>\n",
       "      <td>1</td>\n",
       "      <td>-0.013816</td>\n",
       "    </tr>\n",
       "    <tr>\n",
       "      <th>2</th>\n",
       "      <td>2</td>\n",
       "      <td>-0.013816</td>\n",
       "    </tr>\n",
       "    <tr>\n",
       "      <th>3</th>\n",
       "      <td>3</td>\n",
       "      <td>-0.013816</td>\n",
       "    </tr>\n",
       "    <tr>\n",
       "      <th>4</th>\n",
       "      <td>4</td>\n",
       "      <td>-0.013816</td>\n",
       "    </tr>\n",
       "    <tr>\n",
       "      <th>...</th>\n",
       "      <td>...</td>\n",
       "      <td>...</td>\n",
       "    </tr>\n",
       "    <tr>\n",
       "      <th>20848795</th>\n",
       "      <td>41696845</td>\n",
       "      <td>-0.013803</td>\n",
       "    </tr>\n",
       "    <tr>\n",
       "      <th>20848796</th>\n",
       "      <td>41696846</td>\n",
       "      <td>-0.013223</td>\n",
       "    </tr>\n",
       "    <tr>\n",
       "      <th>20848797</th>\n",
       "      <td>41696847</td>\n",
       "      <td>-0.011989</td>\n",
       "    </tr>\n",
       "    <tr>\n",
       "      <th>20848798</th>\n",
       "      <td>41696848</td>\n",
       "      <td>-0.012212</td>\n",
       "    </tr>\n",
       "    <tr>\n",
       "      <th>20848799</th>\n",
       "      <td>41696849</td>\n",
       "      <td>-0.013262</td>\n",
       "    </tr>\n",
       "  </tbody>\n",
       "</table>\n",
       "<p>20848800 rows × 2 columns</p>\n",
       "</div>"
      ],
      "text/plain": [
       "                 0         1\n",
       "0                0 -0.013816\n",
       "1                1 -0.013816\n",
       "2                2 -0.013816\n",
       "3                3 -0.013816\n",
       "4                4 -0.013816\n",
       "...            ...       ...\n",
       "20848795  41696845 -0.013803\n",
       "20848796  41696846 -0.013223\n",
       "20848797  41696847 -0.011989\n",
       "20848798  41696848 -0.012212\n",
       "20848799  41696849 -0.013262\n",
       "\n",
       "[20848800 rows x 2 columns]"
      ]
     },
     "execution_count": 98,
     "metadata": {},
     "output_type": "execute_result"
    }
   ],
   "source": [
    "submission1"
   ]
  },
  {
   "cell_type": "code",
   "execution_count": 99,
   "id": "bf8e7b1b",
   "metadata": {},
   "outputs": [],
   "source": [
    "submission1.to_csv('submission1.csv', index = None)"
   ]
  },
  {
   "cell_type": "code",
   "execution_count": 2,
   "id": "3951f5dd",
   "metadata": {},
   "outputs": [],
   "source": [
    "s = pd.read_csv('sample_submission-1646898326432-1664166963268.csv')"
   ]
  },
  {
   "cell_type": "code",
   "execution_count": 3,
   "id": "cedabbab",
   "metadata": {},
   "outputs": [
    {
     "name": "stdout",
     "output_type": "stream",
     "text": [
      "<class 'pandas.core.frame.DataFrame'>\n",
      "RangeIndex: 20848800 entries, 0 to 20848799\n",
      "Data columns (total 2 columns):\n",
      " #   Column  Dtype\n",
      "---  ------  -----\n",
      " 0   id      int64\n",
      " 1   yield   int64\n",
      "dtypes: int64(2)\n",
      "memory usage: 318.1 MB\n"
     ]
    }
   ],
   "source": [
    "s.info()"
   ]
  },
  {
   "cell_type": "code",
   "execution_count": 6,
   "id": "fbeb5e79",
   "metadata": {},
   "outputs": [
    {
     "data": {
      "text/plain": [
       "Index(['0', '1'], dtype='object')"
      ]
     },
     "execution_count": 6,
     "metadata": {},
     "output_type": "execute_result"
    }
   ],
   "source": [
    "ss.columns"
   ]
  },
  {
   "cell_type": "code",
   "execution_count": 9,
   "id": "f5f70711",
   "metadata": {},
   "outputs": [],
   "source": [
    "new = {'0': 'id', '1': 'yield'}\n",
    "ss = ss.rename(columns=new)"
   ]
  },
  {
   "cell_type": "code",
   "execution_count": 4,
   "id": "f7652f32",
   "metadata": {},
   "outputs": [],
   "source": [
    "ss = pd.read_csv('submission1-Copy1.csv')"
   ]
  },
  {
   "cell_type": "code",
   "execution_count": 8,
   "id": "00b8f61a",
   "metadata": {},
   "outputs": [],
   "source": [
    "ss['0'] = ss['0'].astype('int64')"
   ]
  },
  {
   "cell_type": "code",
   "execution_count": 10,
   "id": "da3a87bc",
   "metadata": {},
   "outputs": [],
   "source": [
    "ss['yield'] = ss['yield'].astype('int64')"
   ]
  },
  {
   "cell_type": "code",
   "execution_count": 12,
   "id": "bb8d23ac",
   "metadata": {},
   "outputs": [],
   "source": [
    "ss.to_csv('submit1.csv', index = None)"
   ]
  },
  {
   "cell_type": "code",
   "execution_count": 11,
   "id": "d5f32688",
   "metadata": {},
   "outputs": [
    {
     "name": "stdout",
     "output_type": "stream",
     "text": [
      "<class 'pandas.core.frame.DataFrame'>\n",
      "RangeIndex: 20848800 entries, 0 to 20848799\n",
      "Data columns (total 2 columns):\n",
      " #   Column  Dtype\n",
      "---  ------  -----\n",
      " 0   id      int64\n",
      " 1   yield   int64\n",
      "dtypes: int64(2)\n",
      "memory usage: 318.1 MB\n"
     ]
    }
   ],
   "source": [
    "ss.info()"
   ]
  },
  {
   "cell_type": "code",
   "execution_count": 106,
   "id": "efe4d4c2",
   "metadata": {},
   "outputs": [],
   "source": [
    "s = pd.read_csv('submission_v1.csv')"
   ]
  },
  {
   "cell_type": "code",
   "execution_count": 107,
   "id": "fe058594",
   "metadata": {},
   "outputs": [
    {
     "data": {
      "text/html": [
       "<div>\n",
       "<style scoped>\n",
       "    .dataframe tbody tr th:only-of-type {\n",
       "        vertical-align: middle;\n",
       "    }\n",
       "\n",
       "    .dataframe tbody tr th {\n",
       "        vertical-align: top;\n",
       "    }\n",
       "\n",
       "    .dataframe thead th {\n",
       "        text-align: right;\n",
       "    }\n",
       "</style>\n",
       "<table border=\"1\" class=\"dataframe\">\n",
       "  <thead>\n",
       "    <tr style=\"text-align: right;\">\n",
       "      <th></th>\n",
       "      <th>0</th>\n",
       "      <th>1</th>\n",
       "    </tr>\n",
       "  </thead>\n",
       "  <tbody>\n",
       "    <tr>\n",
       "      <th>0</th>\n",
       "      <td>0</td>\n",
       "      <td>-0.013816</td>\n",
       "    </tr>\n",
       "    <tr>\n",
       "      <th>1</th>\n",
       "      <td>1</td>\n",
       "      <td>-0.013816</td>\n",
       "    </tr>\n",
       "    <tr>\n",
       "      <th>2</th>\n",
       "      <td>2</td>\n",
       "      <td>-0.013816</td>\n",
       "    </tr>\n",
       "    <tr>\n",
       "      <th>3</th>\n",
       "      <td>3</td>\n",
       "      <td>-0.013816</td>\n",
       "    </tr>\n",
       "    <tr>\n",
       "      <th>4</th>\n",
       "      <td>4</td>\n",
       "      <td>-0.013816</td>\n",
       "    </tr>\n",
       "    <tr>\n",
       "      <th>...</th>\n",
       "      <td>...</td>\n",
       "      <td>...</td>\n",
       "    </tr>\n",
       "    <tr>\n",
       "      <th>1048570</th>\n",
       "      <td>1048570</td>\n",
       "      <td>-0.013236</td>\n",
       "    </tr>\n",
       "    <tr>\n",
       "      <th>1048571</th>\n",
       "      <td>1048571</td>\n",
       "      <td>-0.012540</td>\n",
       "    </tr>\n",
       "    <tr>\n",
       "      <th>1048572</th>\n",
       "      <td>1048572</td>\n",
       "      <td>-0.013503</td>\n",
       "    </tr>\n",
       "    <tr>\n",
       "      <th>1048573</th>\n",
       "      <td>1048573</td>\n",
       "      <td>0.003890</td>\n",
       "    </tr>\n",
       "    <tr>\n",
       "      <th>1048574</th>\n",
       "      <td>1048574</td>\n",
       "      <td>-0.013269</td>\n",
       "    </tr>\n",
       "  </tbody>\n",
       "</table>\n",
       "<p>1048575 rows × 2 columns</p>\n",
       "</div>"
      ],
      "text/plain": [
       "               0         1\n",
       "0              0 -0.013816\n",
       "1              1 -0.013816\n",
       "2              2 -0.013816\n",
       "3              3 -0.013816\n",
       "4              4 -0.013816\n",
       "...          ...       ...\n",
       "1048570  1048570 -0.013236\n",
       "1048571  1048571 -0.012540\n",
       "1048572  1048572 -0.013503\n",
       "1048573  1048573  0.003890\n",
       "1048574  1048574 -0.013269\n",
       "\n",
       "[1048575 rows x 2 columns]"
      ]
     },
     "execution_count": 107,
     "metadata": {},
     "output_type": "execute_result"
    }
   ],
   "source": [
    "s"
   ]
  }
 ],
 "metadata": {
  "kernelspec": {
   "display_name": "Python 3 (ipykernel)",
   "language": "python",
   "name": "python3"
  },
  "language_info": {
   "codemirror_mode": {
    "name": "ipython",
    "version": 3
   },
   "file_extension": ".py",
   "mimetype": "text/x-python",
   "name": "python",
   "nbconvert_exporter": "python",
   "pygments_lexer": "ipython3",
   "version": "3.9.9"
  }
 },
 "nbformat": 4,
 "nbformat_minor": 5
}
